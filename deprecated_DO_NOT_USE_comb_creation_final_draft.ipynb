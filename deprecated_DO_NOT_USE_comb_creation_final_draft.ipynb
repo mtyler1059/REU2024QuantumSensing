{
  "nbformat": 4,
  "nbformat_minor": 0,
  "metadata": {
    "colab": {
      "provenance": []
    },
    "kernelspec": {
      "name": "python3",
      "display_name": "Python 3"
    },
    "language_info": {
      "name": "python"
    }
  },
  "cells": [
    {
      "cell_type": "code",
      "execution_count": 8,
      "metadata": {
        "id": "-rKNf3nEZMzx"
      },
      "outputs": [],
      "source": [
        "# Import libraries\n",
        "import matplotlib.pyplot as plt\n",
        "import numpy as np"
      ]
    },
    {
      "cell_type": "code",
      "source": [
        "# Define comb creation functions\n",
        "def comb_x(cps1):\n",
        "  comb_x_values = np.fft.fftfreq(n = int(cps1['time'] * cps1['sample_rate']), d = 1 / cps1['sample_rate'])\n",
        "  return comb_x_values\n",
        "\n",
        "def calculate_h(cps2, comb_x_values_i):\n",
        "  path_length = 100e-3\n",
        "  speed_of_light = 3e8\n",
        "  refractive_index = cps2['n_0']\n",
        "  absorption_coefficient = cps2['alpha_0']\n",
        "  refractive_index_transformed = refractive_index + 0.1 * np.sin(comb_x_values_i*2*np.pi)\n",
        "  absorption_coeffient_transoformed = absorption_coefficient * np.exp(-comb_x_values_i / 1.5e14)\n",
        "  H_absorption_value = np.exp(-absorption_coeffient_transoformed * path_length)\n",
        "  H_phase_value = np.exp(-1j * 2 * np.pi * comb_x_values_i * (refractive_index_transformed - 1) * path_length / speed_of_light)\n",
        "  H_value = H_absorption_value * H_phase_value\n",
        "  return H_value\n",
        "\n",
        "def comb_y(cps3, comb_x_values_j):\n",
        "  # Identify the basic independent variable points representing the entire wave, known as samples\n",
        "  number_of_samples = int(cps3['time'] * cps3['sample_rate'])\n",
        "  sample_set = np.zeros(number_of_samples) # Unit is 'number of samples,' representing total amount of points present in the grand train\n",
        "\n",
        "  # Addresses pulses in the wave\n",
        "  number_of_pulses_without_reference_to_samples = int(cps3['time'] * cps3['rep_rate'])\n",
        "  amount_of_samples_coincident_with_pulses = int(cps3['pulse_duration'] * cps3['sample_rate']) # in just one pulse\n",
        "\n",
        "  # Identify the time points (with units of seconds, not to be confused with sample points) at which pulses start\n",
        "  pulse_drift_black_box = np.linspace(0,\n",
        "                                      cps3['drift'] / cps3['rep_rate'],\n",
        "                                      number_of_pulses_without_reference_to_samples) * np.exp(np.linspace(0,\n",
        "                                                                                                          100 * cps3['drift'],\n",
        "                                                                                                          number_of_pulses_without_reference_to_samples))\n",
        "  pulse_times_noise_black_box = np.random.normal(loc = np.arange(number_of_pulses_without_reference_to_samples) / cps3['rep_rate'],\n",
        "                                                 scale = cps3['jitter'] / cps3['rep_rate'],\n",
        "                                                 size = number_of_pulses_without_reference_to_samples)\n",
        "\n",
        "  # Synthesize to determine pulse time start points\n",
        "  actual_pulse_time_start_points = np.add(pulse_times_noise_black_box,\n",
        "                                          pulse_drift_black_box)\n",
        "\n",
        "  # Wherever sample points are coincident with pulse points, set those sample values to one\n",
        "  for actual_pulse_time_start_point in actual_pulse_time_start_points:\n",
        "    starting_sample = int(actual_pulse_time_start_point * cps3['sample_rate'])\n",
        "    if starting_sample + amount_of_samples_coincident_with_pulses < number_of_samples:\n",
        "      sample_set[starting_sample:starting_sample + amount_of_samples_coincident_with_pulses] = 1\n",
        "\n",
        "  # Add noise to all points of the sample train\n",
        "  sample_set += cps3['noise'] * np.random.normal(size = number_of_samples)\n",
        "\n",
        "  # Perform Fourier transform on the sample train to identify ampltidues of constituent frequencies\n",
        "  fourier_amplitudes = np.fft.fft(sample_set)\n",
        "\n",
        "  # Modify spectrum according to H parameter\n",
        "  h_parameter = calculate_h(cps3, comb_x_values_j)\n",
        "  final_amplitudes = fourier_amplitudes * h_parameter\n",
        "  return np.abs(final_amplitudes)"
      ],
      "metadata": {
        "id": "OxyRoKgyZRh4"
      },
      "execution_count": 9,
      "outputs": []
    },
    {
      "cell_type": "code",
      "source": [
        "### Set desired peak parameters\n",
        "\n",
        "# Main parameters\n",
        "peak_spacing = 2\n",
        "broadness_of_comb = 1\n",
        "horizontal_comb_shift = 1700\n",
        "noise_of_pulse = 0.01\n",
        "\n",
        "# Other parameters\n",
        "drift_comb = 0.000  # Jack set this parameter to 0.010\n",
        "jitter_comb = 0.000\n",
        "refractive_index_comb = 000.0\n",
        "absorption_coefficient_comb = 0.0\n",
        "total_experiment_duration = 1e3\n",
        "\n",
        "\n",
        "# Apply parameters\n",
        "comb_parameters = {'rep_rate': peak_spacing,\n",
        "                   'pulse_duration': 60e-3 * (1 / broadness_of_comb),\n",
        "                   'time': total_experiment_duration,\n",
        "                   'sample_rate': 100e0 * broadness_of_comb,\n",
        "                   'noise': noise_of_pulse,\n",
        "                   'jitter': jitter_comb,\n",
        "                   'drift': drift_comb,\n",
        "                   'n_0': refractive_index_comb,\n",
        "                   'alpha_0': absorption_coefficient_comb}\n",
        "\n",
        "# Plot comb\n",
        "figure = plt.figure()\n",
        "axes = figure.add_subplot(1, 1, 1)\n",
        "comb_x_axis = comb_x(comb_parameters)\n",
        "comb_y_axis = comb_y(comb_parameters, comb_x_axis)\n",
        "axes.plot(comb_x_axis + horizontal_comb_shift, comb_y_axis)\n",
        "axes.set_xlabel(u'Frequency (cm\\u207B\\u00B9)')"
      ],
      "metadata": {
        "colab": {
          "base_uri": "https://localhost:8080/",
          "height": 466
        },
        "id": "kZlDViCsdXHh",
        "outputId": "8d48536c-613c-4037-9403-17587ffa6b5b"
      },
      "execution_count": 25,
      "outputs": [
        {
          "output_type": "execute_result",
          "data": {
            "text/plain": [
              "Text(0.5, 0, 'Frequency (cm⁻¹)')"
            ]
          },
          "metadata": {},
          "execution_count": 25
        },
        {
          "output_type": "display_data",
          "data": {
            "text/plain": [
              "<Figure size 640x480 with 1 Axes>"
            ],
            "image/png": "[encoded data removed]"
          },
          "metadata": {}
        }
      ]
    }
  ]
}
